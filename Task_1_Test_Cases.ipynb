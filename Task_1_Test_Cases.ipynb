{
 "cells": [
  {
   "cell_type": "code",
   "execution_count": 5,
   "metadata": {
    "cell_id": "b4ce486bac61480bb13234441362a576",
    "deepnote_cell_type": "code",
    "deepnote_to_be_reexecuted": false,
    "execution_millis": 52,
    "execution_start": 1709576447916,
    "source_hash": null
   },
   "outputs": [],
   "source": [
    "import subprocess\n",
    "import re\n",
    "\n",
    "def exec_commands(commands):    \n",
    "    p = subprocess.run([\"bash\", \"-c\", commands], capture_output=True, text=True)\n",
    "    return p.stdout\n",
    "\n",
    "# student LLM will be put here for testing\n",
    "def student_llm(task):\n",
    "    return \"Hello World\"\n",
    "\n",
    "TODO_LOC = exec_commands('todo --location')\n",
    "TEST = True"
   ]
  },
  {
   "cell_type": "markdown",
   "metadata": {
    "cell_id": "5168cd9fb3ff43e9b25ea6e9e22a6590",
    "deepnote_cell_type": "markdown"
   },
   "source": [
    "#### Task 1) *Mark the first and third items on my homework_list as done*"
   ]
  },
  {
   "cell_type": "code",
   "execution_count": 6,
   "metadata": {
    "cell_id": "a03c8f6721ad45869bf0309bc736d630",
    "deepnote_cell_type": "code",
    "deepnote_to_be_reexecuted": false,
    "execution_millis": 390,
    "execution_start": 1709576449112,
    "source_hash": null
   },
   "outputs": [
    {
     "name": "stdout",
     "output_type": "stream",
     "text": [
      " \u001b[33m1\u001b[0m | LLM Homework\n",
      " \u001b[33m2\u001b[0m | NLP Homework\n",
      " \u001b[33m3\u001b[0m | Math Homework\n",
      " \u001b[33m4\u001b[0m | ML Homework\n",
      "\n"
     ]
    },
    {
     "ename": "AssertionError",
     "evalue": "",
     "output_type": "error",
     "traceback": [
      "\u001b[0;31m---------------------------------------------------------------------------\u001b[0m",
      "\u001b[0;31mAssertionError\u001b[0m                            Traceback (most recent call last)",
      "Cell \u001b[0;32mIn[6], line 25\u001b[0m\n\u001b[1;32m     22\u001b[0m \u001b[38;5;28;01mif\u001b[39;00m TEST:\n\u001b[1;32m     23\u001b[0m     \u001b[38;5;66;03m# final_state should contain \"ML Homework\" and \"NLP Homework\" only\u001b[39;00m\n\u001b[1;32m     24\u001b[0m     \u001b[38;5;28;01massert\u001b[39;00m \u001b[38;5;124m\"\u001b[39m\u001b[38;5;124mML Homework\u001b[39m\u001b[38;5;124m\"\u001b[39m \u001b[38;5;129;01min\u001b[39;00m final_state \u001b[38;5;129;01mand\u001b[39;00m \u001b[38;5;124m\"\u001b[39m\u001b[38;5;124mNLP Homework\u001b[39m\u001b[38;5;124m\"\u001b[39m \u001b[38;5;129;01min\u001b[39;00m final_state\n\u001b[0;32m---> 25\u001b[0m     \u001b[38;5;28;01massert\u001b[39;00m \u001b[38;5;124m\"\u001b[39m\u001b[38;5;124mLLM Homework\u001b[39m\u001b[38;5;124m\"\u001b[39m \u001b[38;5;129;01mnot\u001b[39;00m \u001b[38;5;129;01min\u001b[39;00m final_state \u001b[38;5;129;01mand\u001b[39;00m \u001b[38;5;124m\"\u001b[39m\u001b[38;5;124mMath Homework\u001b[39m\u001b[38;5;124m\"\u001b[39m \u001b[38;5;129;01mnot\u001b[39;00m \u001b[38;5;129;01min\u001b[39;00m final_state\n\u001b[1;32m     26\u001b[0m     \u001b[38;5;66;03m# searching for undone tasks with term LLM or Math should yield nothing\u001b[39;00m\n\u001b[1;32m     27\u001b[0m     \u001b[38;5;28;01massert\u001b[39;00m \u001b[38;5;124m\"\u001b[39m\u001b[38;5;124mLLM Homework\u001b[39m\u001b[38;5;124m\"\u001b[39m  \u001b[38;5;129;01min\u001b[39;00m exec_commands(\u001b[38;5;124m'\u001b[39m\u001b[38;5;124mtodo search \u001b[39m\u001b[38;5;124m\"\u001b[39m\u001b[38;5;124mLLM\u001b[39m\u001b[38;5;124m\"\u001b[39m\u001b[38;5;124m done\u001b[39m\u001b[38;5;124m'\u001b[39m)\n",
      "\u001b[0;31mAssertionError\u001b[0m: "
     ]
    }
   ],
   "source": [
    "task = \"Mark the first and third items on my homework_list as done\"\n",
    "\n",
    "init_commands = f\"\"\"\n",
    "rm -r {TODO_LOC}\n",
    "todo add \"LLM Homework\" --context homework_list\n",
    "todo add \"NLP Homework\" --context homework_list\n",
    "todo add \"Math Homework\" --context homework_list\n",
    "todo add \"ML Homework\"  --context homework_list\n",
    "\n",
    "todo homework_list\n",
    "\"\"\"\n",
    "\n",
    "# setup initial state\n",
    "init_state = exec_commands(init_commands)\n",
    "print(init_state)\n",
    "\n",
    "# run commands from LLM and get final state\n",
    "final_commands = student_llm(task)\n",
    "exec_commands(final_commands)\n",
    "final_state = exec_commands('todo --flat')\n",
    "\n",
    "if TEST:\n",
    "    # final_state should contain \"ML Homework\" and \"NLP Homework\" only\n",
    "    assert \"ML Homework\" in final_state and \"NLP Homework\" in final_state\n",
    "    assert \"LLM Homework\" not in final_state and \"Math Homework\" not in final_state\n",
    "    # searching for undone tasks with term LLM or Math should yield nothing\n",
    "    assert \"LLM Homework\"  in exec_commands('todo search \"LLM\" done')\n",
    "    assert \"Math Homework\" in exec_commands('todo search \"Math\" done')"
   ]
  },
  {
   "cell_type": "markdown",
   "metadata": {
    "cell_id": "e4817241682e48bbb8b6200d155528ce",
    "deepnote_cell_type": "markdown"
   },
   "source": [
    "#### Task 2) *Prioritize the first item in my shopping list*"
   ]
  },
  {
   "cell_type": "code",
   "execution_count": 111,
   "metadata": {
    "cell_id": "a0c7549361ad4a79987e793a25f58584",
    "deepnote_cell_type": "code",
    "deepnote_to_be_reexecuted": false,
    "execution_millis": 417,
    "execution_start": 1709576256410,
    "source_hash": null
   },
   "outputs": [],
   "source": [
    "task = \"Prioritize the first item in my shopping list\"\n",
    "\n",
    "init_commands = f\"\"\"\n",
    "rm -r {TODO_LOC}\n",
    "\n",
    "todo add \"Two bottles of milk\" --context shopping_list\n",
    "todo add \"Three cans of SinaCola\" --context shopping_list\n",
    "todo add \"Fifty eggs\" --context shopping_list\n",
    "\n",
    "todo shopping_list\n",
    "\"\"\"\n",
    "\n",
    "# setup initial state\n",
    "init_state = exec_commands(init_commands)\n",
    "print(init_state)\n",
    "\n",
    "# run commands from LLM and get final state\n",
    "final_commands = student_llm(task)\n",
    "exec_commands(final_commands)\n",
    "final_state = exec_commands('todo --flat')\n",
    "\n",
    "pattern = r\"\\x1b\\[\\d*m\"\n",
    "final_state = re.sub(pattern, \"\", final_state)\n",
    "\n",
    "if TEST:\n",
    "    # Should have the first item with priority greater than zero\n",
    "    assert bool(re.search(r\"Two bottles of milk ★[1-9]\\d*\", final_state))\n",
    "    # Should be the only instance\n",
    "    assert final_state.count(\"★\") == 1"
   ]
  },
  {
   "cell_type": "markdown",
   "metadata": {
    "cell_id": "8c8ebba3659b41f789125faf9cbbb04f",
    "deepnote_cell_type": "markdown"
   },
   "source": [
    "#### Task 3) *Move all completed tasks from my project_list to an archive_list*"
   ]
  },
  {
   "cell_type": "code",
   "execution_count": null,
   "metadata": {
    "cell_id": "87fd4900321141cf8ea24c1d1bacc3bc",
    "deepnote_cell_type": "code",
    "deepnote_to_be_reexecuted": false,
    "execution_millis": 656,
    "execution_start": 1709576235302,
    "source_hash": null
   },
   "outputs": [
    {
     "name": "stdout",
     "output_type": "stream",
     "text": [
      " \u001b[33m3\u001b[0m | ML Project\n",
      " \u001b[33m4\u001b[0m | Algebra I Project\n",
      " \u001b[33m1\u001b[0m | \u001b[32m[DONE]\u001b[0m NLP Project \u001b[36m#project_list\u001b[0m\n",
      " \u001b[33m2\u001b[0m | \u001b[32m[DONE]\u001b[0m Math Project \u001b[36m#project_list\u001b[0m\n",
      "\n"
     ]
    }
   ],
   "source": [
    "task = \"Move all completed tasks from my project_list to an archive_list\"\n",
    "\n",
    "init_commands = f\"\"\"\n",
    "rm -r {TODO_LOC}\n",
    "\n",
    "todo add \"NLP Project\" --context project_list\n",
    "todo add \"Math Project\" --context project_list\n",
    "todo add \"ML Project\" --context project_list\n",
    "\n",
    "todo add \"Algebra I Project\" --context archive_list\n",
    "\n",
    "todo done 1            \n",
    "todo done 2            \n",
    "\n",
    "todo project_list\n",
    "todo archive_list\n",
    "todo search '' --context project_list --done\n",
    "\"\"\"\n",
    "\n",
    "# setup initial state\n",
    "init_state = exec_commands(init_commands)\n",
    "print(init_state)\n",
    "\n",
    "# run commands from LLM and get final state\n",
    "final_commands = student_llm(task)\n",
    "exec_commands(final_commands)\n",
    "final_state = exec_commands('todo --flat')\n",
    "\n",
    "if TEST:\n",
    "    # The two completed tasks should now be in the archive list\n",
    "    assert \"[DONE] NLP Project #archive_list\" in exec_commands(\"todo search '' --context archive_list --done\")\n",
    "    assert \"[DONE] MATH Project #archive_list\" in exec_commands(\"todo search '' --context archive_list --done\")\n",
    "    # There should be no done projects\n",
    "    assert exec_commands(\"todo search '' --context project_list --done\") == \"\"\n",
    "    # There should be one undone project\n",
    "    assert \"ML Project\" in exec_commands(\"todo search '' --context project_list --undone\")"
   ]
  },
  {
   "cell_type": "markdown",
   "metadata": {
    "cell_id": "2361732ee36044638c0d96b25fb1137e",
    "deepnote_cell_type": "markdown"
   },
   "source": [
    "#### Task 4) *Prioritize all tasks that have to do with my studies*"
   ]
  },
  {
   "cell_type": "code",
   "execution_count": null,
   "metadata": {
    "cell_id": "b7db683b357a4a2fbb61238c6233aa3e",
    "deepnote_cell_type": "code",
    "deepnote_to_be_reexecuted": false,
    "execution_millis": 489,
    "execution_start": 1709576235962,
    "source_hash": null
   },
   "outputs": [
    {
     "name": "stdout",
     "output_type": "stream",
     "text": [
      " \u001b[33m1\u001b[0m | Mathematics \u001b[36m#study_list1\u001b[0m\n",
      " \u001b[33m2\u001b[0m | Buy chocolate \u001b[36m#shopping_list\u001b[0m\n",
      " \u001b[33m3\u001b[0m | Buy bread \u001b[36m#shopping_list\u001b[0m\n",
      " \u001b[33m4\u001b[0m | History \u001b[36m#study_list2\u001b[0m\n",
      " \u001b[33m5\u001b[0m | Arts \u001b[36m#study_list2\u001b[0m\n",
      "\n"
     ]
    }
   ],
   "source": [
    "task = \"Prioritize all tasks that have to do with my studies\"\n",
    "\n",
    "init_commands = f\"\"\"\n",
    "rm -r {TODO_LOC}\n",
    "\n",
    "todo add \"Mathematics\" --context study_list1\n",
    "\n",
    "todo add \"Buy chocolate\" --context shopping_list\n",
    "todo add \"Buy bread\" --context shopping_list\n",
    "\n",
    "todo add \"History\" --context study_list2\n",
    "todo add \"Arts\" --context study_list2\n",
    "\n",
    "todo --flat\n",
    "\"\"\"\n",
    "\n",
    "# setup initial state\n",
    "init_state = exec_commands(init_commands)\n",
    "print(init_state)\n",
    "\n",
    "# run commands from LLM and get final state\n",
    "final_commands = student_llm(task)\n",
    "exec_commands(final_commands)\n",
    "final_state = exec_commands('todo --flat')\n",
    "\n",
    "if TEST:\n",
    "    # The study related items should be prioritized\n",
    "    assert bool(re.search(r\"Mathematics ★[1-9]\\d*\", final_state))\n",
    "    assert bool(re.search(r\"History ★[1-9]\\d*\", final_state))\n",
    "    assert bool(re.search(r\"Arts ★[1-9]\\d*\", final_state))\n",
    "    # Only they should be prioritized\n",
    "    assert final_state.count(\"★\") == 3"
   ]
  },
  {
   "cell_type": "markdown",
   "metadata": {
    "cell_id": "0df75af02118470c915d821a2d34f680",
    "deepnote_cell_type": "markdown"
   },
   "source": [
    "#### Task 5) *Merge my work_list and personal_list together into a combined_list*"
   ]
  },
  {
   "cell_type": "code",
   "execution_count": null,
   "metadata": {
    "cell_id": "7d8805cde9d84b179b856d6170872e58",
    "deepnote_cell_type": "code",
    "deepnote_to_be_reexecuted": false,
    "execution_millis": 496,
    "execution_start": 1709576236454,
    "source_hash": null
   },
   "outputs": [
    {
     "name": "stdout",
     "output_type": "stream",
     "text": [
      " \u001b[33m1\u001b[0m | Write these tests \u001b[36m#work_list\u001b[0m\n",
      " \u001b[33m2\u001b[0m | Write more tests \u001b[36m#work_list\u001b[0m\n",
      " \u001b[33m3\u001b[0m | Hang out with friends \u001b[36m#personal_list\u001b[0m\n",
      " \u001b[33m4\u001b[0m | Go to the dentist \u001b[36m#personal_list\u001b[0m\n",
      "\n"
     ]
    }
   ],
   "source": [
    "task = \"Merge my work_list and personal_list together into a combined_list\"\n",
    "\n",
    "init_commands = f\"\"\"\n",
    "rm -r {TODO_LOC}\n",
    "\n",
    "todo add \"Write these tests\" --context work_list\n",
    "todo add \"Write more tests\" --context work_list\n",
    "\n",
    "todo add \"Hang out with friends\" --context personal_list\n",
    "todo add \"Go to the dentist\" --context personal_list\n",
    "\n",
    "# todo mv personal_list work_list\n",
    "# todo rmctx personal_list --force\n",
    "# todo ctx work_list --name \"combined_list\"\n",
    "\n",
    "todo --flat\n",
    "\"\"\"\n",
    "\n",
    "# setup initial state\n",
    "init_state = exec_commands(init_commands)\n",
    "print(init_state)\n",
    "\n",
    "# run commands from LLM and get final state\n",
    "final_commands = student_llm(task)\n",
    "exec_commands(final_commands)\n",
    "final_state = exec_commands('todo --flat')\n",
    "\n",
    "if TEST:\n",
    "    # work_list and personal_list should not be in final_state\n",
    "    assert \"#work_list\" not in final_state\n",
    "    assert \"#personal_list\" not in final_state\n",
    "    # combined_list should appear four times in final_state\n",
    "    assert final_state.count(\"#combined_list\") == 4\n",
    "    # check that a random task is in the combined_list\n",
    "    assert \"Hang out with friends #combined_list\" in final_state"
   ]
  },
  {
   "cell_type": "markdown",
   "metadata": {
    "cell_id": "3e266088b2c94cf58e738da444709e25",
    "deepnote_cell_type": "markdown"
   },
   "source": [
    "#### Task 6) *Set all items in my study_list to maximum importance*"
   ]
  },
  {
   "cell_type": "code",
   "execution_count": null,
   "metadata": {
    "cell_id": "817ffebeb233403fa2d91e2c1ac1e009",
    "deepnote_cell_type": "code",
    "deepnote_to_be_reexecuted": false,
    "execution_millis": 552,
    "execution_start": 1709576236953,
    "source_hash": null
   },
   "outputs": [
    {
     "name": "stdout",
     "output_type": "stream",
     "text": [
      " \u001b[33m1\u001b[0m | Matrix Calculus \u001b[36m#study_list\u001b[0m\n",
      " \u001b[33m2\u001b[0m | Convex Optimization \u001b[36m#study_list\u001b[0m\n",
      " \u001b[33m3\u001b[0m | Differential Equations \u001b[36m#study_list\u001b[0m\n",
      " \u001b[33m4\u001b[0m | League of Legends \u001b[36m#gaming_list\u001b[0m\n",
      " \u001b[33m5\u001b[0m | Heros of the Storm \u001b[36m#shopping_list\u001b[0m\n",
      " \u001b[33m6\u001b[0m | Study Quizzes \u001b[36m#gaming_list\u001b[0m\n",
      "\n"
     ]
    }
   ],
   "source": [
    "task = \"Set all items in my study_list to maximum importance\"\n",
    "\n",
    "init_commands = f\"\"\"\n",
    "rm -r {TODO_LOC}\n",
    "\n",
    "todo add \"Matrix Calculus\" --context study_list\n",
    "todo add \"Convex Optimization\" --context study_list\n",
    "todo add \"Differential Equations\" --context study_list\n",
    "\n",
    "todo add \"League of Legends\" --context gaming_list\n",
    "todo add \"Heros of the Storm\" --context shopping_list\n",
    "todo add \"Study Quizzes\" --context gaming_list\n",
    "\n",
    "todo --flat\n",
    "\"\"\"\n",
    "\n",
    "# setup initial state\n",
    "init_state = exec_commands(init_commands)\n",
    "print(init_state)\n",
    "\n",
    "# run commands from LLM and get final state\n",
    "final_commands = student_llm(task)\n",
    "exec_commands(final_commands)\n",
    "final_state = exec_commands('todo --flat')\n",
    "\n",
    "# Test will assume maximum priority is 99\n",
    "if TEST:\n",
    "    # Check that all items in study_list have maximum priority\n",
    "    assert bool(re.search(r\"Matrix Calculus ★99\", final_state))\n",
    "    assert bool(re.search(r\"Convex Optimization ★99\", final_state))\n",
    "    assert bool(re.search(r\"Differential Equations ★99\", final_state))\n",
    "    # There must be only three ★99\n",
    "    assert final_state.count(\"★99\") == 3\n",
    "    \n",
    "    # gaming items must occur with no priority\n",
    "    assert \"League of Legends #gaming_list\" in final_state\n",
    "    assert \"Heros of the Storm #gaming_list\" in final_state\n",
    "    assert \"Study Quizzes #gaming_list\" in final_state"
   ]
  },
  {
   "cell_type": "markdown",
   "metadata": {
    "cell_id": "7e53604cfc5e4b86be6d4c66eb5c5125",
    "deepnote_cell_type": "markdown"
   },
   "source": [
    "#### Task 7) *Prepare for the team meeting by moving all high priority tasks to the meeting_agenda_list*"
   ]
  },
  {
   "cell_type": "code",
   "execution_count": null,
   "metadata": {
    "cell_id": "6500344e73dd4984917022917c845292",
    "deepnote_cell_type": "code",
    "deepnote_to_be_reexecuted": false,
    "execution_millis": 1378,
    "execution_start": 1709576237510,
    "source_hash": null
   },
   "outputs": [
    {
     "name": "stdout",
     "output_type": "stream",
     "text": [
      " \u001b[33m5\u001b[0m | Complete project proposal for client X \u001b[32m★9\u001b[0m \u001b[36m#work_list\u001b[0m\n",
      " \u001b[33m6\u001b[0m | Respond to emails from stakeholders \u001b[32m★9\u001b[0m \u001b[36m#work_list\u001b[0m\n",
      " \u001b[33m7\u001b[0m | Schedule follow-up meetings with collaborators \u001b[32m★9\u001b[0m \u001b[36m#work_list\u001b[0m\n",
      " \u001b[33ma\u001b[0m | Schedule a check-up appointment with the doctor \u001b[32m★9\u001b[0m \u001b[36m#health_list\u001b[0m\n",
      " \u001b[33m1\u001b[0m | Eat lunch together \u001b[36m#meeting_agenda_list\u001b[0m\n",
      " \u001b[33m2\u001b[0m | Review notes on quantum mechanics \u001b[36m#study_list\u001b[0m\n",
      " \u001b[33m3\u001b[0m | Solve practice problems for organic chemistry \u001b[36m#study_list\u001b[0m\n",
      " \u001b[33m4\u001b[0m | Watch tutorial videos on machine learning algorithms \u001b[36m#study_list\u001b[0m\n",
      " \u001b[33m8\u001b[0m | Go for a 30-minute jog \u001b[36m#health_list\u001b[0m\n",
      " \u001b[33m9\u001b[0m | Do yoga for 20 minutes \u001b[36m#health_list\u001b[0m\n",
      " \u001b[33mb\u001b[0m | Organize closet and donate old clothes \u001b[36m#personal_list\u001b[0m\n",
      " \u001b[33mc\u001b[0m | Start learning a new language with Duolingo \u001b[36m#personal_list\u001b[0m\n",
      "\n"
     ]
    }
   ],
   "source": [
    "task = \"Prepare for the team meeting by moving all high priority tasks to the meeting_agenda_list\"\n",
    "\n",
    "init_commands = f\"\"\"\n",
    "rm -r {TODO_LOC}\n",
    "\n",
    "todo add \"Eat lunch together\" --context meeting_agenda_list\n",
    "\n",
    "todo add \"Review notes on quantum mechanics\" --context study_list\n",
    "todo add \"Solve practice problems for organic chemistry\" --context study_list\n",
    "todo add \"Watch tutorial videos on machine learning algorithms\" --context study_list\n",
    "\n",
    "todo add \"Complete project proposal for client X\" --context work_list\n",
    "todo add \"Respond to emails from stakeholders\" --context work_list\n",
    "todo add \"Schedule follow-up meetings with collaborators\" --context work_list\n",
    "\n",
    "todo task 5 --priority 9\n",
    "todo task 6 --priority 9\n",
    "todo task 7 --priority 9\n",
    "\n",
    "todo add \"Go for a 30-minute jog\" --context health_list\n",
    "todo add \"Do yoga for 20 minutes\" --context health_list\n",
    "todo add \"Schedule a check-up appointment with the doctor\" --context health_list\n",
    "\n",
    "todo task a --priority 9\n",
    "\n",
    "todo add \"Organize closet and donate old clothes\" --context personal_list\n",
    "todo add \"Start learning a new language with Duolingo\" --context personal_list\n",
    "\n",
    "todo --flat\n",
    "\"\"\"\n",
    "\n",
    "# setup initial state\n",
    "init_state = exec_commands(init_commands)\n",
    "print(init_state)\n",
    "\n",
    "# run commands from LLM and get final state\n",
    "final_commands = student_llm(task)\n",
    "exec_commands(final_commands)\n",
    "final_state = exec_commands('todo --flat')\n",
    "\n",
    "if TEST:\n",
    "    # check that the final state has the high priority items in the agenda list\n",
    "    assert \"Complete project proposal for client X ★9 #meeting_agenda_list\" in final_state\n",
    "    assert \"Respond to emails from stakeholders ★9 #meeting_agenda_list\" in final_state\n",
    "    assert \"Schedule follow-up meetings with collaborators ★9 #meeting_agenda_list\" in final_state\n",
    "    assert \"Schedule a check-up appointment with the doctor ★9 #meeting_agenda_list\" in final_state\n",
    "    # and that they no longer belong to their original lists\n",
    "    assert \"Complete project proposal for client X ★9 #work_list\" not in final_state\n",
    "    assert \"Respond to emails from stakeholders ★9 #work_list\" not in final_state\n",
    "    assert \"Schedule follow-up meetings with collaborators ★9 #work_list\" not in final_state\n",
    "    assert \"Schedule a check-up appointment with the doctor ★9 #health_list\" not in final_state\n",
    "    # number of ★ should be 4 (no othe priorities)\n",
    "    assert final_state.count(\"★9\") == 4"
   ]
  },
  {
   "cell_type": "markdown",
   "metadata": {
    "cell_id": "4f2f50b1ce8948d18fd3946311ff20bd",
    "deepnote_cell_type": "markdown"
   },
   "source": [
    "#### Task 8) *Move all high-importance items from my tasks_list to my priorities_list*"
   ]
  },
  {
   "cell_type": "code",
   "execution_count": null,
   "metadata": {
    "cell_id": "9dc7a7366e8044b0b5aa04244f9efbf4",
    "deepnote_cell_type": "code",
    "deepnote_to_be_reexecuted": false,
    "execution_millis": 888,
    "execution_start": 1709576238907,
    "source_hash": null
   },
   "outputs": [
    {
     "name": "stdout",
     "output_type": "stream",
     "text": [
      " \u001b[33m2\u001b[0m | Complete project proposal for client X \u001b[32m★99\u001b[0m \u001b[36m#task_list\u001b[0m\n",
      " \u001b[33m3\u001b[0m | Respond to emails from stakeholders \u001b[32m★99\u001b[0m \u001b[36m#task_list\u001b[0m\n",
      " \u001b[33m4\u001b[0m | Schedule follow-up meetings with collaborators \u001b[32m★90\u001b[0m \u001b[36m#task_list\u001b[0m\n",
      " \u001b[33m5\u001b[0m | Go to China and see the great wall \u001b[32m★90\u001b[0m \u001b[36m#travel_list\u001b[0m\n",
      " \u001b[33m6\u001b[0m | Fly to Paris \u001b[32m★90\u001b[0m \u001b[36m#travel_list\u001b[0m\n",
      " \u001b[33m1\u001b[0m | Go swimming \u001b[36m#priorities_list\u001b[0m\n",
      "\n"
     ]
    }
   ],
   "source": [
    "task = \"Move all high-importance items from my tasks_list to my priorities_list\"\n",
    "\n",
    "init_commands = f\"\"\"\n",
    "rm -r {TODO_LOC}\n",
    "\n",
    "todo add \"Go swimming\" --context priorities_list\n",
    "\n",
    "todo add \"Complete project proposal for client X\" --context task_list\n",
    "todo add \"Respond to emails from stakeholders\" --context task_list\n",
    "todo add \"Schedule follow-up meetings with collaborators\" --context task_list\n",
    "\n",
    "todo task 2 --priority 99\n",
    "todo task 3 --priority 99\n",
    "todo task 4 --priority 90\n",
    "\n",
    "todo add \"Go to China and see the great wall\" --context travel_list\n",
    "todo add \"Fly to Paris\" --context travel_list\n",
    "\n",
    "todo task 5 --priority 90\n",
    "todo task 6 --priority 90\n",
    "\n",
    "todo --flat\n",
    "\"\"\"\n",
    "\n",
    "# setup initial state\n",
    "init_state = exec_commands(init_commands)\n",
    "print(init_state)\n",
    "\n",
    "# run commands from LLM and get final state\n",
    "final_commands = student_llm(task)\n",
    "exec_commands(final_commands)\n",
    "final_state = exec_commands('todo --flat')\n",
    "\n",
    "if TEST:\n",
    "    # Check that the final state has the high priority items in the agenda list\n",
    "    assert \"Complete project proposal for client X ★99 #priorities_list\" in final_state\n",
    "    assert \"Respond to emails from stakeholders ★99 #priorities_list\" in final_state\n",
    "    assert \"Schedule follow-up meetings with collaborators ★90 #priorities_list\" in final_state\n",
    "    # Ensure priorities_list was not erased\n",
    "    assert \"Go swimming #priorities_list\" in final_state\n",
    "    # and that they no longer belong to their original lists\n",
    "    assert \"Complete project proposal for client X ★99 #task_list\" not in final_state\n",
    "    assert \"Respond to emails from stakeholders ★99 #task_list\" not in final_state\n",
    "    assert \"Schedule follow-up meetings with collaborators ★90 #task_list\" not in final_state"
   ]
  },
  {
   "cell_type": "markdown",
   "metadata": {
    "created_in_deepnote_cell": true,
    "deepnote_cell_type": "markdown"
   },
   "source": [
    "<a style='text-decoration:none;line-height:16px;display:flex;color:#5B5B62;padding:10px;justify-content:end;' href='https://deepnote.com?utm_source=created-in-deepnote-cell&projectId=90ff4dcc-b342-4b11-93e0-7eecf5cb71a0' target=\"_blank\">\n",
    "<img alt='Created in deepnote.com' style='display:inline;max-height:16px;margin:0px;margin-right:7.5px;' src='data:image/svg+xml;base64,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' > </img>\n",
    "Created in <span style='font-weight:600;margin-left:4px;'>Deepnote</span></a>"
   ]
  }
 ],
 "metadata": {
  "deepnote_execution_queue": [],
  "deepnote_notebook_id": "e13b48fd6de54e318a976730018fdcf5",
  "deepnote_persisted_session": {
   "createdAt": "2024-03-04T18:51:49.584Z"
  },
  "kernelspec": {
   "display_name": "Python 3 (ipykernel)",
   "language": "python",
   "name": "python3"
  },
  "language_info": {
   "codemirror_mode": {
    "name": "ipython",
    "version": 3
   },
   "file_extension": ".py",
   "mimetype": "text/x-python",
   "name": "python",
   "nbconvert_exporter": "python",
   "pygments_lexer": "ipython3",
   "version": "3.9.18"
  }
 },
 "nbformat": 4,
 "nbformat_minor": 4
}
